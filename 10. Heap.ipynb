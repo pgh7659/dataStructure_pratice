{
 "cells": [
  {
   "cell_type": "markdown",
   "metadata": {},
   "source": [
    "### 10. Heap\n",
    "\n",
    "#### 힙의 구조\n",
    "- 일반적으로 힙 구현시 배열 자료구조를 활용(=> 완전 이진트리 구조 이기때문!!)\n",
    "- 편의를 위해 index 0은 비우고 생각( 1번지부터 시작 )\n",
    "- 부모노드 index = 자식노드 // 2\n",
    "- 왼쪽 자식 노드 index = 부모노드 * 2\n",
    "- 오른쪽 자식 노드 index = 부모노드 * 2 + 1"
   ]
  },
  {
   "cell_type": "code",
   "execution_count": 17,
   "metadata": {},
   "outputs": [],
   "source": [
    "class Heap:\n",
    "    def __init__(self, data):\n",
    "        self.heap_array = list()\n",
    "        self.heap_array.append(None)\n",
    "        self.heap_array.append(data)\n",
    "    \n",
    "    def check_upswap(self, inserted_index):\n",
    "        if inserted_index <= 1:\n",
    "            return False\n",
    "        \n",
    "        parent_index = inserted_index // 2\n",
    "        \n",
    "        if self.heap_array[parent_index] < self.heap_array[inserted_index]:\n",
    "            return True\n",
    "        else:\n",
    "            return False\n",
    "        \n",
    "    def insert(self, data):\n",
    "        if len(self.heap_array) == 0:\n",
    "            self.heap_array = list()\n",
    "            self.heap_array.append(None)\n",
    "        \n",
    "        self.heap_array.append(data)\n",
    "        inserted_index = len(self.heap_array) - 1\n",
    "        while self.check_upswap(inserted_index):\n",
    "            parent_index = inserted_index // 2\n",
    "            # swap\n",
    "            self.heap_array[parent_index], self.heap_array[inserted_index] = self.heap_array[inserted_index], self.heap_array[parent_index]\n",
    "            \n",
    "            inserted_index = parent_index\n",
    "        \n",
    "        return True\n",
    "    \n",
    "    def check_downswap(self, poped_index):\n",
    "        size = len(self.heap_array) - 1\n",
    "        left_child_index = poped_index * 2\n",
    "        right_child_index = poped_index * 2 + 1\n",
    "        \n",
    "        # child node 없는 경우\n",
    "        if left_child_index > size and right_child_index > size:\n",
    "            return False\n",
    "        # left child만 있는 경우\n",
    "        elif left_child_index <= size and right_child_index > size:\n",
    "            if self.heap_array[poped_index] < self.heap_array[left_child_index]:\n",
    "                return True\n",
    "            else:\n",
    "                return False\n",
    "        # 둘다 있는 경우\n",
    "        else:\n",
    "            if self.heap_array[left_child_index] > self.heap_array[right_child_index]:\n",
    "                if self.heap_array[left_child_index] > self.heap_array[poped_index]:\n",
    "                    return True\n",
    "                else:\n",
    "                    return False\n",
    "            else:\n",
    "                if self.heap_array[right_child_index] > self.heap_array[poped_index]:\n",
    "                    return True\n",
    "                else:\n",
    "                    return False\n",
    "            \n",
    "    def pop(self):\n",
    "        if len(self.heap_array) == 1:\n",
    "            print('heap is empty')\n",
    "            \n",
    "        else:\n",
    "            root_node = self.heap_array[1]\n",
    "            self.heap_array[1] = self.heap_array[-1]\n",
    "            del self.heap_array[-1]\n",
    "            \n",
    "            poped_index = 1\n",
    "            while self.check_downswap(poped_index):\n",
    "                size = len(self.heap_array) - 1\n",
    "                left_child_index = poped_index * 2\n",
    "                right_child_index = poped_index * 2 + 1\n",
    "\n",
    "                # left child만 있는 경우\n",
    "                if left_child_index <= size and right_child_index > size:\n",
    "                    if self.heap_array[poped_index] < self.heap_array[left_child_index]:\n",
    "                        self.heap_array[poped_index], self.heap_array[left_child_index] = self.heap_array[left_child_index], self.heap_array[poped_index]\n",
    "                        poped_index = left_child_index\n",
    "                    \n",
    "                # 둘다 있는 경우\n",
    "                else:\n",
    "                    if self.heap_array[left_child_index] > self.heap_array[right_child_index]:\n",
    "                        if self.heap_array[left_child_index] > self.heap_array[poped_index]:\n",
    "                            self.heap_array[poped_index], self.heap_array[left_child_index] = self.heap_array[left_child_index], self.heap_array[poped_index]\n",
    "                            poped_index = left_child_index\n",
    "                        \n",
    "                    else:\n",
    "                        if self.heap_array[right_child_index] > self.heap_array[poped_index]:\n",
    "                            self.heap_array[poped_index], self.heap_array[right_child_index] = self.heap_array[right_child_index], self.heap_array[poped_index]\n",
    "                            poped_index = right_child_index\n",
    "        \n",
    "            return root_node    "
   ]
  },
  {
   "cell_type": "code",
   "execution_count": 27,
   "metadata": {},
   "outputs": [
    {
     "data": {
      "text/plain": [
       "[None, 20, 10, 15, 4, 8, 5]"
      ]
     },
     "execution_count": 27,
     "metadata": {},
     "output_type": "execute_result"
    }
   ],
   "source": [
    "heap = Heap(15)\n",
    "\n",
    "heap.insert(4)\n",
    "heap.insert(5)\n",
    "heap.insert(10)\n",
    "heap.insert(8)\n",
    "heap.insert(20)\n",
    "\n",
    "heap.heap_array"
   ]
  },
  {
   "cell_type": "code",
   "execution_count": 28,
   "metadata": {},
   "outputs": [
    {
     "data": {
      "text/plain": [
       "20"
      ]
     },
     "execution_count": 28,
     "metadata": {},
     "output_type": "execute_result"
    }
   ],
   "source": [
    "heap.pop()"
   ]
  },
  {
   "cell_type": "code",
   "execution_count": 29,
   "metadata": {},
   "outputs": [
    {
     "data": {
      "text/plain": [
       "15"
      ]
     },
     "execution_count": 29,
     "metadata": {},
     "output_type": "execute_result"
    }
   ],
   "source": [
    "heap.pop()"
   ]
  },
  {
   "cell_type": "code",
   "execution_count": 31,
   "metadata": {},
   "outputs": [
    {
     "data": {
      "text/plain": [
       "10"
      ]
     },
     "execution_count": 31,
     "metadata": {},
     "output_type": "execute_result"
    }
   ],
   "source": [
    "heap.pop()"
   ]
  },
  {
   "cell_type": "code",
   "execution_count": 32,
   "metadata": {},
   "outputs": [
    {
     "data": {
      "text/plain": [
       "8"
      ]
     },
     "execution_count": 32,
     "metadata": {},
     "output_type": "execute_result"
    }
   ],
   "source": [
    "heap.pop()"
   ]
  },
  {
   "cell_type": "code",
   "execution_count": 33,
   "metadata": {},
   "outputs": [
    {
     "data": {
      "text/plain": [
       "[None, 5, 4]"
      ]
     },
     "execution_count": 33,
     "metadata": {},
     "output_type": "execute_result"
    }
   ],
   "source": [
    "heap.heap_array"
   ]
  },
  {
   "cell_type": "markdown",
   "metadata": {},
   "source": [
    "##### Heap의 시간복잡도\n",
    "- depth(트리의 높이)를 h 로 표기한다면,\n",
    "- n개의 노드를 가지는 heap에 데이터 삽입 또는 삭제 시, 최악의 경우 root노드에서 leaf 노드까지 비교해야 하므로 h = log n 에 가까우므로 O(log n)\n",
    "  - 참고: 빅오 표기법에서 log n의 밑은 10 이 아닌 2 이다!\n",
    "  - 한번 실행 시 마다, 50%의 실행할 수도 있는 명령을 제거한다는 의미, 즉 50%의 실행시간을 단축시킬 수 있음을 의미"
   ]
  },
  {
   "cell_type": "code",
   "execution_count": null,
   "metadata": {},
   "outputs": [],
   "source": []
  }
 ],
 "metadata": {
  "kernelspec": {
   "display_name": "Python 3",
   "language": "python",
   "name": "python3"
  },
  "language_info": {
   "codemirror_mode": {
    "name": "ipython",
    "version": 3
   },
   "file_extension": ".py",
   "mimetype": "text/x-python",
   "name": "python",
   "nbconvert_exporter": "python",
   "pygments_lexer": "ipython3",
   "version": "3.9.1"
  }
 },
 "nbformat": 4,
 "nbformat_minor": 4
}
