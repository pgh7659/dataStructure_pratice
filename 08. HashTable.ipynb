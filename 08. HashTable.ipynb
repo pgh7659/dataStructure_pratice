{
 "cells": [
  {
   "cell_type": "markdown",
   "metadata": {},
   "source": [
    "### HashTable Practice\n",
    " ##### 연습1: 리스트 변수를 활용해서 해쉬 테이블 구현\n",
    "    1. 해쉬함수: key % 8\n",
    "    2. 해쉬 키 생성: hash(data)"
   ]
  },
  {
   "cell_type": "code",
   "execution_count": 9,
   "metadata": {},
   "outputs": [],
   "source": [
    "hashArray = list([0 for i in range(8)])\n",
    "\n",
    "def getHashKey(data):\n",
    "    return hash(data)\n",
    "\n",
    "def hashFn(key):\n",
    "    return key % 8\n",
    "\n",
    "def putData(data, value):\n",
    "    hashAddress = hashFn(getHashKey(data))\n",
    "    hashArray[hashAddress] = value\n",
    "    \n",
    "def getData(data):\n",
    "    hashAddress = hashFn(getHashKey(data))\n",
    "    return hashArray[hashAddress]\n",
    "\n",
    "\n",
    "    \n",
    "    "
   ]
  },
  {
   "cell_type": "code",
   "execution_count": 24,
   "metadata": {},
   "outputs": [
    {
     "data": {
      "text/plain": [
       "[0, '01012311231', 0, 0, 0, '01020111234', 0, 0]"
      ]
     },
     "execution_count": 24,
     "metadata": {},
     "output_type": "execute_result"
    }
   ],
   "source": [
    "putData('Wave', '01020111234')\n",
    "putData('Andy', '01012311231')\n",
    "\n",
    "hashArray"
   ]
  },
  {
   "cell_type": "code",
   "execution_count": 25,
   "metadata": {},
   "outputs": [
    {
     "name": "stdout",
     "output_type": "stream",
     "text": [
      "5225634184296444037\n",
      "5\n"
     ]
    },
    {
     "data": {
      "text/plain": [
       "5"
      ]
     },
     "execution_count": 25,
     "metadata": {},
     "output_type": "execute_result"
    }
   ],
   "source": [
    "daveKey = getHashKey('Wave')\n",
    "print(daveKey)\n",
    "print(daveKey % 8)\n",
    "hashFn(daveKey)"
   ]
  },
  {
   "cell_type": "code",
   "execution_count": 26,
   "metadata": {},
   "outputs": [
    {
     "name": "stdout",
     "output_type": "stream",
     "text": [
      "-4260073676374688847\n",
      "1\n"
     ]
    },
    {
     "data": {
      "text/plain": [
       "1"
      ]
     },
     "execution_count": 26,
     "metadata": {},
     "output_type": "execute_result"
    }
   ],
   "source": [
    "andyKey = getHashKey('Andy')\n",
    "print(andyKey)\n",
    "print(andyKey % 8)\n",
    "hashFn(andyKey)"
   ]
  },
  {
   "cell_type": "markdown",
   "metadata": {},
   "source": [
    "#### 충돌(Collision) 해결 알고리즘(좋은 해쉬 함수 사용하기)\n",
    "\n",
    "##### 1. chaining 기법\n",
    "- 개방해슁 또는 open hashing 기법 중 하나: 해쉬 테이블 저장공간 외의 공간을 활용하는 기법\n",
    "- 충돌이 일어나면, 링크드 리스트라는 자료 구조를 사용해서, 링크드 리스트로 데이터를 추가로 뒤에 연결시켜서 저장하는 기법\n",
    "\n"
   ]
  },
  {
   "cell_type": "code",
   "execution_count": 20,
   "metadata": {},
   "outputs": [],
   "source": [
    "chaining_array = list([0 for index in range(8)])\n",
    "\n",
    "def get_hashkey(data):\n",
    "    return hash(data)\n",
    "\n",
    "def hash_function(data):\n",
    "    return data % 8\n",
    "\n",
    "def save_hash(data, value):\n",
    "    index_key = get_hashkey(data)\n",
    "    hash_address = hash_function(index_key)\n",
    "    if chaining_array[hash_address] != 0:\n",
    "        for index in range(len(chaining_array[hash_address])):\n",
    "            if chaining_array[hash_address][index][0] == index_key:\n",
    "                chaining_array[hash_address][index][1] = value\n",
    "                return\n",
    "        chaining_array[hash_address].append([index_key, value])\n",
    "    else:\n",
    "        chaining_array[hash_address] = [[index_key, value]]\n",
    "\n",
    "def read_hash(data):\n",
    "    index_key = get_hashkey(data)\n",
    "    hash_address = hash_function(index_key)\n",
    "    if chaining_array[hash_address] != 0:\n",
    "        for index in range(len(chaining_array[hash_address])):\n",
    "            if chaining_array[hash_address][index][0] == index_key:\n",
    "                return chaining_array[hash_address][index][1]\n",
    "        return None\n",
    "    else:\n",
    "        return None"
   ]
  },
  {
   "cell_type": "code",
   "execution_count": 22,
   "metadata": {},
   "outputs": [
    {
     "name": "stdout",
     "output_type": "stream",
     "text": [
      "[[[-8247301982513183760, '890123']], 0, 0, 0, 0, [[-3841240208031506067, '890922']], 0, [[-1111678819682534793, '890111'], [3973008023227413903, '890122']]]\n",
      "890922\n",
      "890111\n"
     ]
    }
   ],
   "source": [
    "save_hash('eddy', '890927')\n",
    "save_hash('eddy', '890922')\n",
    "save_hash('eron', '890123')\n",
    "save_hash('dd', '890111')\n",
    "save_hash('data', '890122')\n",
    "\n",
    "\n",
    "print(chaining_array)\n",
    "\n",
    "print(read_hash('eddy'))\n",
    "print(read_hash('dd'))"
   ]
  },
  {
   "cell_type": "markdown",
   "metadata": {},
   "source": [
    "##### 2. linear probing 기법\n",
    "- 폐쇄 해슁 또는 close hashing 기법 중 하나: 해쉬 테이블 저장공간 안에서 충돌 문제를 해결하는 기법\n",
    "- 충돌이 일어나면, 해당 hash address의 다음 address부터 맨 처음 나오는 빈공간에 저장한는 기법"
   ]
  },
  {
   "cell_type": "code",
   "execution_count": 28,
   "metadata": {},
   "outputs": [],
   "source": [
    "linear_array = list([0 for index in range(8)])\n",
    "\n",
    "def get_key(data):\n",
    "    return hash(data)\n",
    "\n",
    "def hash_function(data):\n",
    "    return data % 8\n",
    "\n",
    "def save_data(data, value):\n",
    "    index_key = get_key(data)\n",
    "    hash_address = hash_function(index_key)\n",
    "    if linear_array[hash_address] != 0:\n",
    "        for index in range(hash_address, len(linear_array)):\n",
    "            if linear_array[index] == 0:\n",
    "                linear_array[index] = [index_key, value]\n",
    "                return\n",
    "            elif linear_array[index][0] == index_key:\n",
    "                linear_array[index][1] = value\n",
    "                return\n",
    "    else:\n",
    "        linear_array[hash_address] = [index_key, value]\n",
    "    \n",
    "def read_data(data):\n",
    "    index_key = get_key(data)\n",
    "    hash_address = hash_function(index_key)\n",
    "    if linear_array[hash_address] == 0:\n",
    "        return None\n",
    "    elif linear_array[hash_address][0] == index_key:\n",
    "        return linear_array[hash_address][1]\n",
    "    else:\n",
    "        for index in range(hash_address, len(linear_array)):\n",
    "            if linear_array[index][0] == index_key:\n",
    "                return linear_array[index][1]\n",
    "        "
   ]
  },
  {
   "cell_type": "code",
   "execution_count": 30,
   "metadata": {},
   "outputs": [
    {
     "name": "stdout",
     "output_type": "stream",
     "text": [
      "[[-8247301982513183760, '890123'], 0, 0, 0, 0, [-3841240208031506067, '890922'], 0, [-1111678819682534793, '890111']]\n",
      "890922\n",
      "890111\n",
      "None\n"
     ]
    }
   ],
   "source": [
    "save_data('eddy', '890927')\n",
    "save_data('eddy', '890922')\n",
    "save_data('eron', '890123')\n",
    "save_data('dd', '890111')\n",
    "save_data('data', '890122')\n",
    "\n",
    "\n",
    "print(linear_array)\n",
    "\n",
    "print(read_data('eddy'))\n",
    "print(read_data('dd'))\n",
    "print(read_data('dfasdfasd'))"
   ]
  },
  {
   "cell_type": "markdown",
   "metadata": {},
   "source": [
    "##### 3. 빈번한 충돌을 개선하는 방법\n",
    "- 해쉬함수를 재정의 및 해쉬 테이블 저장공간을 확대 -> \"해쉬테이블은 공간과 시간을 맞바꾼다\"\n",
    "\n",
    "##### cf. 해쉬함수와 키 생성 함수\n",
    " - 파이썬의 hash() 함수는 실행할 때마다 값이 달라질 수 있는 문제점있다.\n",
    " - 유명한 해쉬함수(ex. SHA(Secure Hash Algorithm) 사용하여 보완 가능\n",
    "   - 어떤 데이터도 유일한 고정된 크기의 고정값을 리턴해주므로, 해쉬 함수로 유용하게 활용 가능\n",
    "   \n",
    " ##### SHA-1"
   ]
  },
  {
   "cell_type": "code",
   "execution_count": 3,
   "metadata": {},
   "outputs": [
    {
     "name": "stdout",
     "output_type": "stream",
     "text": [
      "a94a8fe5ccb19ba61c4c0873d391e987982fbbd3\n"
     ]
    }
   ],
   "source": [
    "import hashlib\n",
    "\n",
    "data = 'test'.encode()\n",
    "hash_object = hashlib.sha1()\n",
    "hash_object.update(data)\n",
    "hex_dig = hash_object.hexdigest()\n",
    "\n",
    "print(hex_dig)"
   ]
  },
  {
   "cell_type": "markdown",
   "metadata": {},
   "source": [
    "   ##### SHA-256"
   ]
  },
  {
   "cell_type": "code",
   "execution_count": 4,
   "metadata": {},
   "outputs": [
    {
     "name": "stdout",
     "output_type": "stream",
     "text": [
      "9f86d081884c7d659a2feaa0c55ad015a3bf4f1b2b0b822cd15d6c15b0f00a08\n"
     ]
    }
   ],
   "source": [
    "import hashlib\n",
    "\n",
    "data = 'test'.encode()\n",
    "hash_object = hashlib.sha256()\n",
    "hash_object.update(data)\n",
    "hex_dig = hash_object.hexdigest()\n",
    "\n",
    "print(hex_dig)"
   ]
  },
  {
   "cell_type": "markdown",
   "metadata": {},
   "source": [
    "#### 연습문제: SHA 활용한 hashtable 만들기(chaning 기법)"
   ]
  },
  {
   "cell_type": "code",
   "execution_count": 30,
   "metadata": {},
   "outputs": [
    {
     "name": "stdout",
     "output_type": "stream",
     "text": [
      "01022222222\n",
      "01011111111\n"
     ]
    },
    {
     "data": {
      "text/plain": [
       "[0,\n",
       " 0,\n",
       " [['3944783bc199f6d262054408115175aece74baa066e56f69f7900f4c4f261092',\n",
       "   '01044444444'],\n",
       "  ['aa58b21b01d6b8a99c1a5856962dbac36c758a79dc0a77c2e013ce2c39ecdc8a',\n",
       "   '01055555555']],\n",
       " [['4c75ea444d4c645ae142ec0fc4159b01d5973c9d7d6c4e97602137a3791f6873',\n",
       "   '01011111111'],\n",
       "  ['9b7ecc6eeb83abf9ade10fe38865df4499be3568dcc507ae2ec3b44989cb0093',\n",
       "   '01033333333']],\n",
       " 0,\n",
       " 0,\n",
       " 0,\n",
       " [['b260539511e1699624d952b041c76d1853d0fe066f42decade1d08e92acb250f',\n",
       "   '01022222222']]]"
      ]
     },
     "execution_count": 30,
     "metadata": {},
     "output_type": "execute_result"
    }
   ],
   "source": [
    "import hashlib\n",
    "\n",
    "hash_table = list([0 for index in range(8)])\n",
    "\n",
    "def getSHA(value):\n",
    "    data = value.encode()\n",
    "    hash_object = hashlib.sha256()\n",
    "    hash_object.update(data)\n",
    "    \n",
    "    return hash_object.hexdigest()\n",
    "\n",
    "def hash_function(key):\n",
    "    return int(key, 16) % 8\n",
    "\n",
    "def get(key):\n",
    "    key_sha = getSHA(key)\n",
    "    key_index = hash_function(key_sha)\n",
    "    if hash_table[key_index] != 0:\n",
    "        for index in range(len(hash_table[key_index])):\n",
    "            if hash_table[key_index][index][0] == key_sha:\n",
    "                return hash_table[key_index][index][1]\n",
    "        return None\n",
    "    else:\n",
    "        return None\n",
    "\n",
    "def put(key, data):\n",
    "    key_sha = getSHA(key)\n",
    "    key_index = hash_function(key_sha)\n",
    "    if hash_table[key_index] == 0:\n",
    "        hash_table[key_index] = [[key_sha, data]]\n",
    "    else:\n",
    "        for index in range(len(hash_table[key_index])):\n",
    "            if hash_table[key_index][index][0] == key_sha:\n",
    "                hash_table[key_index][index][1] = data\n",
    "        hash_table[key_index].append([key_sha, data])\n",
    "\n",
    "            \n",
    "put('gil', '01011111111')\n",
    "put('woo', '01022222222')\n",
    "put('dd', '01033333333')\n",
    "put('dh', '01044444444')\n",
    "put('da', '01055555555')\n",
    "\n",
    "\n",
    "print(get('woo'))\n",
    "print(get('gil'))\n",
    "\n",
    "hash_table"
   ]
  },
  {
   "cell_type": "markdown",
   "metadata": {},
   "source": [
    "#### 시간 복잡도\n",
    "- 일반적인 경우(collision이 없는 경우): O(1)\n",
    "- 최악의 경우(collision이 모두 발생하는 경우): O(n)\n",
    "=> 해쉬테이블의 경우 일반적인 경우를 기대하고 만들기 때문에, 시간복잡도는 O(1)이라고 말할 수 있다.\n",
    "\n",
    "##### 검색에서 해쉬 테이블의 사용 예\n",
    " - 16개의 \"배열\"에 데이터를 저장하고, 검색할 때 O(n)\n",
    " - 16개의 데이터 저장공간을 가진 위의 \"해쉬 테이블\"에 데이터를 저장하고, 검색할때 O(1)"
   ]
  },
  {
   "cell_type": "code",
   "execution_count": null,
   "metadata": {},
   "outputs": [],
   "source": []
  }
 ],
 "metadata": {
  "kernelspec": {
   "display_name": "Python 3",
   "language": "python",
   "name": "python3"
  },
  "language_info": {
   "codemirror_mode": {
    "name": "ipython",
    "version": 3
   },
   "file_extension": ".py",
   "mimetype": "text/x-python",
   "name": "python",
   "nbconvert_exporter": "python",
   "pygments_lexer": "ipython3",
   "version": "3.9.1"
  }
 },
 "nbformat": 4,
 "nbformat_minor": 4
}
