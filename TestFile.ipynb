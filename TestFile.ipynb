{
 "cells": [
  {
   "cell_type": "code",
   "execution_count": 1,
   "metadata": {},
   "outputs": [
    {
     "name": "stdout",
     "output_type": "stream",
     "text": [
      "['hello', 2, 3, 4, 5]\n"
     ]
    }
   ],
   "source": [
    "a= 'hello';\n",
    "b = 2;\n",
    "\n",
    "arr = [a, b, 3, 4, 5];\n",
    "\n",
    "print(arr);"
   ]
  },
  {
   "cell_type": "code",
   "execution_count": 2,
   "metadata": {},
   "outputs": [
    {
     "name": "stdout",
     "output_type": "stream",
     "text": [
      "hello\n",
      "2\n",
      "3\n",
      "4\n",
      "5\n"
     ]
    }
   ],
   "source": [
    "for item in arr:\n",
    "    print(item);"
   ]
  },
  {
   "cell_type": "code",
   "execution_count": 19,
   "metadata": {},
   "outputs": [
    {
     "name": "stdout",
     "output_type": "stream",
     "text": [
      "h\n",
      "e\n",
      "l\n",
      "l\n",
      "o\n",
      "2\n",
      "3\n",
      "4\n",
      "5\n",
      "5\n",
      "['hello', '2', '3', '4', '5']\n"
     ]
    }
   ],
   "source": [
    "count = 0;\n",
    "for item in arr:\n",
    "    if str(type(item)) == \"<class 'int'>\" : arr[count] = str(item);\n",
    "    count += 1;\n",
    "    for index in range(len(str(item))):\n",
    "        print(item[index]);\n",
    "        \n",
    "    \n",
    "print(count);\n",
    "print(arr);\n",
    "        "
   ]
  },
  {
   "cell_type": "code",
   "execution_count": 11,
   "metadata": {},
   "outputs": [],
   "source": [
    "import queue;\n",
    "test_q = queue.LifoQueue();\n",
    "test_q.put(1);\n",
    "test_q.put(2);\n",
    "test_q.qsize();\n"
   ]
  },
  {
   "cell_type": "code",
   "execution_count": 12,
   "metadata": {},
   "outputs": [
    {
     "name": "stdout",
     "output_type": "stream",
     "text": [
      "2\n",
      "<queue.LifoQueue object at 0x0000016F7F0E08E0>\n"
     ]
    }
   ],
   "source": [
    "print(test_q.qsize());\n",
    "print(test_q);\n"
   ]
  },
  {
   "cell_type": "code",
   "execution_count": 14,
   "metadata": {},
   "outputs": [
    {
     "name": "stdout",
     "output_type": "stream",
     "text": [
      "1\n"
     ]
    }
   ],
   "source": [
    "print(test_q.get());\n"
   ]
  },
  {
   "cell_type": "code",
   "execution_count": null,
   "metadata": {},
   "outputs": [],
   "source": []
  },
  {
   "cell_type": "code",
   "execution_count": null,
   "metadata": {},
   "outputs": [],
   "source": []
  }
 ],
 "metadata": {
  "kernelspec": {
   "display_name": "Python 3",
   "language": "python",
   "name": "python3"
  },
  "language_info": {
   "codemirror_mode": {
    "name": "ipython",
    "version": 3
   },
   "file_extension": ".py",
   "mimetype": "text/x-python",
   "name": "python",
   "nbconvert_exporter": "python",
   "pygments_lexer": "ipython3",
   "version": "3.9.1"
  }
 },
 "nbformat": 4,
 "nbformat_minor": 4
}
