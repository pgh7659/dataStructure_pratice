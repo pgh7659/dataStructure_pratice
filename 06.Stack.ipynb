{
 "cells": [
  {
   "cell_type": "markdown",
   "metadata": {},
   "source": [
    "## Stack\n",
    "- 데이터를 제한적으로 접근할 수 있는 구조\n",
    "- LIFO(Last In First Out)\n",
    "- push / pop\n",
    "- 대표적 활용 예: 프로세스 내 함수동작 방식"
   ]
  },
  {
   "cell_type": "code",
   "execution_count": 1,
   "metadata": {},
   "outputs": [
    {
     "name": "stdout",
     "output_type": "stream",
     "text": [
      "10\n",
      "9\n",
      "8\n",
      "7\n",
      "6\n",
      "5\n",
      "4\n",
      "3\n",
      "2\n",
      "1\n",
      "0\n",
      "end\n",
      "returned 0\n",
      "returned 1\n",
      "returned 2\n",
      "returned 3\n",
      "returned 4\n",
      "returned 5\n",
      "returned 6\n",
      "returned 7\n",
      "returned 8\n",
      "returned 9\n",
      "returned 10\n"
     ]
    }
   ],
   "source": [
    "def recursive(data):\n",
    "    if data < 0:\n",
    "        print('end');\n",
    "    else:\n",
    "        print(data);\n",
    "        recursive(data - 1);\n",
    "        print('returned', data);\n",
    "\n",
    "recursive(10);"
   ]
  },
  {
   "cell_type": "code",
   "execution_count": null,
   "metadata": {},
   "outputs": [],
   "source": []
  }
 ],
 "metadata": {
  "kernelspec": {
   "display_name": "Python 3",
   "language": "python",
   "name": "python3"
  },
  "language_info": {
   "codemirror_mode": {
    "name": "ipython",
    "version": 3
   },
   "file_extension": ".py",
   "mimetype": "text/x-python",
   "name": "python",
   "nbconvert_exporter": "python",
   "pygments_lexer": "ipython3",
   "version": "3.9.1"
  }
 },
 "nbformat": 4,
 "nbformat_minor": 4
}
